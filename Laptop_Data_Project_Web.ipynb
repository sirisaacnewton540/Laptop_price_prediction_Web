{
 "cells": [
  {
   "cell_type": "code",
   "execution_count": 1,
   "metadata": {},
   "outputs": [],
   "source": [
    "import numpy as np\n",
    "import pandas as pd\n",
    "import matplotlib.pyplot as plt\n",
    "import seaborn as sns\n",
    "from sklearn.linear_model import LinearRegression\n",
    "from sklearn.ensemble import RandomForestRegressor\n",
    "from sklearn.model_selection import train_test_split as tts\n",
    "from sklearn.metrics import mean_squared_error\n",
    "\n",
    "import warnings \n",
    "warnings.filterwarnings('ignore')\n",
    "\n",
    "import ipywidgets as widgets\n",
    "from IPython.display import display, clear_output\n"
   ]
  },
  {
   "cell_type": "code",
   "execution_count": 2,
   "metadata": {},
   "outputs": [
    {
     "name": "stderr",
     "output_type": "stream",
     "text": [
      "Enabling notebook extension jupyter-js-widgets/extension...\n",
      "      - Validating: ok\n",
      "Enabling: voila\n",
      "- Writing config: C:\\Users\\Asus\\anaconda3\\etc\\jupyter\n",
      "    - Validating...\n",
      "      voila 0.5.5 ok\n"
     ]
    }
   ],
   "source": [
    "#!jupyter nbextension enable --py widgetsnbextension --sys-prefix\n",
    "#! jupyter serverextension enable voila --sys-prefix"
   ]
  },
  {
   "cell_type": "code",
   "execution_count": 3,
   "metadata": {},
   "outputs": [],
   "source": [
    "file = open('image.jpg', \"rb\")\n",
    "image = file.read()\n",
    "\n",
    "image_headline = widgets.Image(value = image,\n",
    "                              format = 'jpg',\n",
    "                              width = '300')\n",
    "\n",
    "vbox_headline = widgets.VBox([image_headline])"
   ]
  },
  {
   "cell_type": "code",
   "execution_count": 4,
   "metadata": {},
   "outputs": [],
   "source": [
    "df = pd.read_csv('C:\\\\Users\\\\Asus\\\\Documents\\\\A_Data\\\\laptopData.csv')"
   ]
  },
  {
   "cell_type": "code",
   "execution_count": 5,
   "metadata": {},
   "outputs": [],
   "source": [
    "df1 = df.dropna()"
   ]
  },
  {
   "cell_type": "code",
   "execution_count": 6,
   "metadata": {},
   "outputs": [],
   "source": [
    "xres = []\n",
    "yres = []\n",
    "res = []\n",
    "touch = []\n",
    "for i in df1['ScreenResolution']:\n",
    "    [x,y] = i.split(' ')[-1].split('x')\n",
    "    if 'Touchscreen' in i:\n",
    "        touch.append(1)\n",
    "    else:\n",
    "        touch.append(0)\n",
    "\n",
    "    res.append(x+'x'+y)\n",
    "\n",
    "df1['res'] = res\n",
    "df1['touch'] = touch\n"
   ]
  },
  {
   "cell_type": "code",
   "execution_count": 7,
   "metadata": {},
   "outputs": [],
   "source": [
    "df1['Inches'] = df1['Inches'].replace('?',float('0'))\n",
    "df1['Inches'] = df1['Inches'].astype('float')\n"
   ]
  },
  {
   "cell_type": "code",
   "execution_count": 8,
   "metadata": {},
   "outputs": [],
   "source": [
    "freq = []\n",
    "proc = []\n",
    "\n",
    "for i in df1['Cpu']:\n",
    "    ent = ' '.join(i.split('GHz')[0].split(' ')[:3])\n",
    "    freq.append(i.split('GHz')[0].split(' ')[-1])\n",
    "    if 'Intel' in ent:\n",
    "        if ent[6:] != 'Core i3' and ent[6:] != 'Core i5' and ent[6:] != 'Core i7':\n",
    "            ent = 'Other Intel Core'\n",
    "    else:\n",
    "        ent = 'AMD Core'\n",
    "    proc.append(ent)\n",
    "       \n",
    "df1['proc_freq'] = freq\n",
    "df1['CPU_Brand'] = proc"
   ]
  },
  {
   "cell_type": "code",
   "execution_count": 9,
   "metadata": {},
   "outputs": [],
   "source": [
    "ram = []\n",
    "for i in df1['Ram']:\n",
    "    ram.append(i[:-2])\n",
    "    \n",
    "df1['Ram'] = ram"
   ]
  },
  {
   "cell_type": "code",
   "execution_count": 10,
   "metadata": {},
   "outputs": [],
   "source": [
    "storage = []\n",
    "storage_type = []\n",
    "dual_storage = []\n",
    "dual_storage_type = []\n",
    "\n",
    "df1 = df1[df1['Memory'] != '?']\n",
    "\n",
    "for i in df1['Memory']:\n",
    "    if '+' not in i:\n",
    "        if 'TB' not in i.split(' ')[0]:\n",
    "            storage.append(int(i.split(' ')[0].split('GB')[0]))\n",
    "        else:\n",
    "            storage.append(1000*int(float(i.split(' ')[0].split('TB')[0])))\n",
    "                \n",
    "        storage_type.append(' '.join(i.split(' ')[1:]))\n",
    "        dual_storage.append(0)\n",
    "        dual_storage_type.append(0)\n",
    "    else:\n",
    "        if 'TB' not in i.split('+')[0].split(' ')[0]:\n",
    "            storage.append(int(i.split('+')[0].split(' ')[0].split('GB')[0]))\n",
    "        else:\n",
    "            storage.append(1000*int(float(i.split('+')[0].split(' ')[0].split('TB')[0])))\n",
    "        storage_type.append(' '.join(i.split('+')[0].split(' ')[1:]))\n",
    "        \n",
    "        if 'TB' not in i.split('+')[1].split(' ')[2]:\n",
    "            dual_storage.append(int(i.split('+')[1].split(' ')[2].split('GB')[0]))\n",
    "        else:\n",
    "            dual_storage.append(1000*int(float(i.split('+')[1].split(' ')[2].split('TB')[0])))\n",
    "        dual_storage_type.append(' '.join(i.split('+')[1].split(' ')[3:]))\n",
    "\n",
    "storage_type = list(map(lambda x: x.replace('HDD ', 'HDD'), storage_type))\n",
    "storage_type = list(map(lambda x: x.replace('SSD ', 'SSD'), storage_type))\n",
    "storage_type = list(map(lambda x: x.replace('Flash Storage ', 'Flash Storage'), storage_type))\n",
    "\n",
    "       \n",
    "df1['storage'] = storage\n",
    "df1['storage_type'] = storage_type\n",
    "df1['dual_storage'] = dual_storage\n",
    "df1['dual_storage_type'] = dual_storage_type\n",
    "df1['dual_storage_type'][df1['dual_storage_type'] == 0] = 'None' \n",
    "\n",
    "df1['total_storage'] = df1['storage'] + df1['dual_storage']"
   ]
  },
  {
   "cell_type": "code",
   "execution_count": 11,
   "metadata": {},
   "outputs": [],
   "source": [
    "gpu = []\n",
    "\n",
    "for i in df1['Gpu']:\n",
    "    gpu.append(i.split(' ')[0])\n",
    "    \n",
    "df1['Gpu'] = gpu"
   ]
  },
  {
   "cell_type": "code",
   "execution_count": 12,
   "metadata": {},
   "outputs": [],
   "source": [
    "weight =[]\n",
    "\n",
    "for i in df1['Weight']:\n",
    "    weight.append(i.split('kg')[0])\n",
    "\n",
    "df1['Weight'] = weight\n",
    "df1 = df1[df1['Weight'] != '?']\n",
    "df1['Weight'] = df1['Weight'].astype('float64')\n",
    "df1 = df1[df1['Weight'] >= 1]\n"
   ]
  },
  {
   "cell_type": "code",
   "execution_count": 13,
   "metadata": {},
   "outputs": [],
   "source": [
    "def subcategory(text):\n",
    "    if text =='Windows 10' or text =='Windows 7' or text == 'Windows 10 S ':\n",
    "        return 'Windows'\n",
    "    elif text =='macOS' or text == 'Mac OS X':\n",
    "        return 'Mac'\n",
    "    else:\n",
    "        return 'Others'\n",
    "df1['OpSys'] = df1['OpSys'].apply(lambda x:subcategory(x))"
   ]
  },
  {
   "cell_type": "code",
   "execution_count": 14,
   "metadata": {},
   "outputs": [],
   "source": [
    "df1 = df1.drop(df1.columns[[4,5,7,18,20]],axis = 1)"
   ]
  },
  {
   "cell_type": "code",
   "execution_count": 15,
   "metadata": {},
   "outputs": [],
   "source": [
    "st = []\n",
    "\n",
    "for i in df1['storage']:\n",
    "    if i == '1.0TB':\n",
    "        st.append('1TB')\n",
    "        \n",
    "    else:\n",
    "        st.append(i)\n",
    "df1['storage'] = st\n",
    "\n",
    "df1 = df1[df1['storage'] != '?']\n",
    "df2 = df1.copy()"
   ]
  },
  {
   "cell_type": "markdown",
   "metadata": {},
   "source": [
    "# Encoding"
   ]
  },
  {
   "cell_type": "code",
   "execution_count": 16,
   "metadata": {},
   "outputs": [],
   "source": [
    "df2['Company'] = df1['Company'].astype('category').cat.codes\n",
    "df2['TypeName'] = df1['TypeName'].astype('category').cat.codes\n",
    "df2['Gpu'] = df1['Gpu'].astype('category').cat.codes\n",
    "df2['res'] = df1['res'].astype('category').cat.codes\n",
    "df2['touch'] = df1['touch'].astype('category').cat.codes\n",
    "df2['OpSys'] = df1['OpSys'].astype('category').cat.codes\n",
    "df2['CPU_Brand'] = df1['CPU_Brand'].astype('category').cat.codes\n",
    "df2['storage_type'] = df1['storage_type'].astype('category').cat.codes\n",
    "df2['dual_storage_type'] = df1['dual_storage_type'].astype('category').cat.codes\n",
    "\n",
    "df2['Ram'] = df1['Ram'].astype('int32')\n",
    "#df2['Weight'] = df1['Weight'].astype('float64')\n",
    "df2['proc_freq'] = df1['proc_freq'].astype('float64')"
   ]
  },
  {
   "cell_type": "markdown",
   "metadata": {},
   "source": [
    "# Company"
   ]
  },
  {
   "cell_type": "code",
   "execution_count": 17,
   "metadata": {},
   "outputs": [],
   "source": [
    "#df2['Company'] = df1.Company.astype('category').cat.categories\n",
    "\n",
    "dict1 = dict(enumerate(df1.Company.astype('category').cat.categories))\n",
    "dict2 = {}\n",
    "\n",
    "dict2 = dict([(v, [k for k, v1 in dict1.items() if v1 == v])\n",
    "              for v in set(dict1.values())])\n",
    "dict2 = {key: int(value[0]) for key, value in dict2.items()}\n",
    "\n",
    "\n",
    "company_wid = widgets.Dropdown(\n",
    "    options=list(dict2.items()),\n",
    "    description='Brand:',\n",
    ")"
   ]
  },
  {
   "cell_type": "markdown",
   "metadata": {},
   "source": [
    "# Laptop Type"
   ]
  },
  {
   "cell_type": "code",
   "execution_count": 18,
   "metadata": {},
   "outputs": [],
   "source": [
    "#df2['TypeName'] = df1.TypeName.astype('category').cat.categories\n",
    "dict1 = dict(enumerate(df1.TypeName.astype('category').cat.categories))\n",
    "dict2 = {}\n",
    "\n",
    "dict2 = dict([(v, [k for k, v1 in dict1.items() if v1 == v])\n",
    "              for v in set(dict1.values())])\n",
    "\n",
    "dict2 = {key: int(value[0]) for key, value in dict2.items()}\n",
    "\n",
    "lap_type_wid = widgets.Dropdown(\n",
    "    options=list(dict2.items()),\n",
    "    description='Type:',\n",
    ")"
   ]
  },
  {
   "cell_type": "markdown",
   "metadata": {},
   "source": [
    "# Screen Size"
   ]
  },
  {
   "cell_type": "code",
   "execution_count": 19,
   "metadata": {},
   "outputs": [],
   "source": [
    "screen_size = list(np.sort(df1['Inches'].unique()))[1:]\n",
    "\n",
    "screen_size_wid= widgets.Dropdown(\n",
    "    options=screen_size,\n",
    "    description='Screen Size:',\n",
    ")"
   ]
  },
  {
   "cell_type": "markdown",
   "metadata": {},
   "source": [
    "# RAM"
   ]
  },
  {
   "cell_type": "code",
   "execution_count": 20,
   "metadata": {},
   "outputs": [],
   "source": [
    "ram = list(np.sort(df1['Ram'].unique().astype('int')))\n",
    "\n",
    "ram_wid = widgets.Dropdown(\n",
    "    options=ram,\n",
    "    description='Ram:',\n",
    ")"
   ]
  },
  {
   "cell_type": "markdown",
   "metadata": {},
   "source": [
    "# GPU"
   ]
  },
  {
   "cell_type": "code",
   "execution_count": 21,
   "metadata": {},
   "outputs": [],
   "source": [
    "#df2['Gpu'] = df1.Gpu.astype('category').cat.categories\n",
    "\n",
    "dict1 = dict(enumerate(df1.Gpu.astype('category').cat.categories))\n",
    "dict2 = {}\n",
    "\n",
    "dict2 = dict([(v, [k for k, v1 in dict1.items() if v1 == v])\n",
    "              for v in set(dict1.values())])\n",
    "dict2 = {key: int(value[0]) for key, value in dict2.items()}\n",
    "\n",
    "gpu_wid = widgets.Dropdown(\n",
    "    options=list(dict2.items()),\n",
    "    description='GPU:',\n",
    ")"
   ]
  },
  {
   "cell_type": "markdown",
   "metadata": {},
   "source": [
    "# Operating System"
   ]
  },
  {
   "cell_type": "code",
   "execution_count": 47,
   "metadata": {},
   "outputs": [],
   "source": [
    "\n",
    "dict1 = dict(enumerate(df1.OpSys.astype('category').cat.categories))\n",
    "dict2 = {}\n",
    "\n",
    "dict2 = dict([(v, [k for k, v1 in dict1.items() if v1 == v])\n",
    "              for v in set(dict1.values())])\n",
    "dict2 = {key: int(value[0]) for key, value in dict2.items()}\n",
    "\n",
    "op_sys_wid = widgets.ToggleButtons(\n",
    "    options=list([('Windows', 2), ('Mac', 0), ('Others', 1)]),\n",
    "    description='OS:',\n",
    "    disabled=False,\n",
    "    button_style='info',\n",
    "     icons=['fa-brands fa-windows', 'fa-brands fa-apple', ' ']\n",
    ")"
   ]
  },
  {
   "cell_type": "markdown",
   "metadata": {},
   "source": [
    "# Weight"
   ]
  },
  {
   "cell_type": "code",
   "execution_count": 23,
   "metadata": {},
   "outputs": [],
   "source": [
    "\n",
    "weight_wid = widgets.BoundedFloatText(\n",
    "    min=0,\n",
    "    max=9,\n",
    "    step=0.1,\n",
    "    description='Weight (kgs):',\n",
    "    disabled=False\n",
    ")"
   ]
  },
  {
   "cell_type": "markdown",
   "metadata": {},
   "source": [
    "# Touchscreen"
   ]
  },
  {
   "cell_type": "code",
   "execution_count": 24,
   "metadata": {},
   "outputs": [],
   "source": [
    "\n",
    "touch_wid = widgets.RadioButtons(\n",
    "    options=[('Yes', 1), ('No', 0)],\n",
    "    description='Touchscreen:',\n",
    "    disabled=False\n",
    ")"
   ]
  },
  {
   "cell_type": "markdown",
   "metadata": {},
   "source": [
    "# Resolution"
   ]
  },
  {
   "cell_type": "code",
   "execution_count": 25,
   "metadata": {},
   "outputs": [],
   "source": [
    "#df2['res'] = \n",
    "dict1 = dict(enumerate(df1.res.astype('category').cat.categories))\n",
    "dict2 = {}\n",
    "\n",
    "dict2 = dict([(v, [k for k, v1 in dict1.items() if v1 == v])\n",
    "              for v in set(dict1.values())])\n",
    "dict2 = {key: int(value[0]) for key, value in dict2.items()}\n",
    "\n",
    "resol_wid = widgets.Dropdown(\n",
    "    options=list(dict2.items()),\n",
    "    description='Resolution:',\n",
    ")"
   ]
  },
  {
   "cell_type": "markdown",
   "metadata": {},
   "source": [
    "# CPU Frequency"
   ]
  },
  {
   "cell_type": "code",
   "execution_count": 26,
   "metadata": {},
   "outputs": [],
   "source": [
    "\n",
    "freq_wid = widgets.FloatSlider(\n",
    "    min=0.9,\n",
    "    max=3.6,\n",
    "    step=0.1,\n",
    "    description='CPU Frequency:',\n",
    "    disabled=False,\n",
    "    continuous_update=False,\n",
    "    orientation='horizontal',\n",
    "    readout=True,\n",
    "    readout_format='.1f',\n",
    ")\n"
   ]
  },
  {
   "cell_type": "markdown",
   "metadata": {},
   "source": [
    "# CPU Brand"
   ]
  },
  {
   "cell_type": "code",
   "execution_count": 27,
   "metadata": {},
   "outputs": [],
   "source": [
    "\n",
    "dict1 = dict(enumerate(df1.CPU_Brand.astype('category').cat.categories))\n",
    "dict2 = {}\n",
    "\n",
    "dict2 = dict([(v, [k for k, v1 in dict1.items() if v1 == v])\n",
    "              for v in set(dict1.values())])\n",
    "dict2 = {key: int(value[0]) for key, value in dict2.items()}\n",
    "\n",
    "cpu_wid = widgets.ToggleButtons(\n",
    "    options=list(dict2.items()),\n",
    "    description='CPU Brand:',\n",
    "    disabled=False,\n",
    "    button_style='info'\n",
    ")"
   ]
  },
  {
   "cell_type": "markdown",
   "metadata": {},
   "source": [
    "# Storage"
   ]
  },
  {
   "cell_type": "code",
   "execution_count": 28,
   "metadata": {},
   "outputs": [],
   "source": [
    "store = list(np.sort(df1['storage'].unique())) # SelectionSlider\n",
    "\n",
    "store_wid = widgets.Dropdown(\n",
    "    options=store,\n",
    "    description='Storage:',\n",
    ")"
   ]
  },
  {
   "cell_type": "markdown",
   "metadata": {},
   "source": [
    "# Storage Type"
   ]
  },
  {
   "cell_type": "code",
   "execution_count": 29,
   "metadata": {},
   "outputs": [],
   "source": [
    "\n",
    "dict1 = dict(enumerate(df1.storage_type.astype('category').cat.categories))\n",
    "dict2 = {}\n",
    "\n",
    "dict2 = dict([(v, [k for k, v1 in dict1.items() if v1 == v])\n",
    "              for v in set(dict1.values())])\n",
    "dict2 = {key: int(value[0]) for key, value in dict2.items()}\n",
    "\n",
    "store_type_wid = widgets.ToggleButtons(\n",
    "    options=list(dict2.items()),\n",
    "    description='Data Drive:',\n",
    "    disabled=False,\n",
    "    button_style='info'\n",
    ")"
   ]
  },
  {
   "cell_type": "markdown",
   "metadata": {},
   "source": [
    "#  Dual Storage"
   ]
  },
  {
   "cell_type": "code",
   "execution_count": 30,
   "metadata": {},
   "outputs": [],
   "source": [
    "\n",
    "dict1 = dict(enumerate(df1.dual_storage_type.astype('category').cat.categories))\n",
    "dict2 = {}\n",
    "\n",
    "dict2 = dict([(v, [k for k, v1 in dict1.items() if v1 == v])\n",
    "              for v in set(dict1.values())])\n",
    "dict2 = {key: int(value[0]) for key, value in dict2.items()}\n",
    "\n",
    "dual_store_wid = widgets.ToggleButtons(\n",
    "    options=list(dict2.items()),\n",
    "    description='Dual Storage',\n",
    "    button_style='info'\n",
    ")"
   ]
  },
  {
   "cell_type": "code",
   "execution_count": 31,
   "metadata": {},
   "outputs": [],
   "source": [
    "x = df2[['Company', 'TypeName', 'Inches','Ram', 'Gpu', 'OpSys', 'Weight', 'res', 'touch', \n",
    "         'proc_freq', 'CPU_Brand', 'storage', 'storage_type', 'dual_storage_type']]\n",
    "y=df2['Price']"
   ]
  },
  {
   "cell_type": "code",
   "execution_count": 32,
   "metadata": {},
   "outputs": [],
   "source": [
    "x_train, x_test, y_train, y_test = tts(x,y, test_size= 0.2, random_state=101)"
   ]
  },
  {
   "cell_type": "code",
   "execution_count": 33,
   "metadata": {},
   "outputs": [],
   "source": [
    "from sklearn.preprocessing import StandardScaler\n",
    "\n",
    "sc=StandardScaler()\n",
    "x_train_s=sc.fit_transform(x_train)\n",
    "x_test_s=sc.transform(x_test)"
   ]
  },
  {
   "cell_type": "code",
   "execution_count": 34,
   "metadata": {},
   "outputs": [
    {
     "data": {
      "text/plain": [
       "RandomForestRegressor()"
      ]
     },
     "execution_count": 34,
     "metadata": {},
     "output_type": "execute_result"
    }
   ],
   "source": [
    "model = RandomForestRegressor()\n",
    "model.fit(x_train_s, y_train)"
   ]
  },
  {
   "cell_type": "code",
   "execution_count": 35,
   "metadata": {},
   "outputs": [],
   "source": [
    "#pred_rand = model.predict(x_test_s)"
   ]
  },
  {
   "cell_type": "markdown",
   "metadata": {},
   "source": [
    "# Prediction Button"
   ]
  },
  {
   "cell_type": "code",
   "execution_count": 36,
   "metadata": {},
   "outputs": [],
   "source": [
    "#from sklearn.metrics import accuracy_score, r2_score\n",
    "\n",
    "#r2_score(y_test,pred_rand)"
   ]
  },
  {
   "cell_type": "code",
   "execution_count": 37,
   "metadata": {},
   "outputs": [],
   "source": [
    "button_pred = widgets.Button(\n",
    "                description='Predict the Price',\n",
    "                style={'description_width': 'initial'}\n",
    "            )\n",
    "\n",
    "\n",
    "output = widgets.Output()\n",
    "\n",
    "def on_button_clicked(event):\n",
    "    with output:\n",
    "        clear_output()\n",
    "        print(f\"The predicted value of the laptop you are looking for is ₹{np.round(model.predict([[company_wid.value, lap_type_wid.value, screen_size_wid.value, ram_wid.value, gpu_wid.value, op_sys_wid.value, weight_wid.value, resol_wid.value, touch_wid.value, freq_wid.value, cpu_wid.value, store_wid.value, store_type_wid.value, dual_store_wid.value]])[0],2)}\")\n",
    "\n",
    "button_pred.on_click(on_button_clicked)\n",
    "\n",
    "vbox_result = widgets.VBox([button_pred, output])"
   ]
  },
  {
   "cell_type": "code",
   "execution_count": 49,
   "metadata": {},
   "outputs": [],
   "source": [
    "vbox_text = widgets.VBox([company_wid,lap_type_wid, screen_size_wid, ram_wid, \n",
    "                          gpu_wid, op_sys_wid, weight_wid, resol_wid, touch_wid, freq_wid,\n",
    "                          cpu_wid, store_wid, store_type_wid, dual_store_wid, vbox_result])\n"
   ]
  },
  {
   "cell_type": "code",
   "execution_count": 50,
   "metadata": {},
   "outputs": [
    {
     "data": {
      "application/vnd.jupyter.widget-view+json": {
       "model_id": "c00eebdc5c4d462a84937eab87e35fcd",
       "version_major": 2,
       "version_minor": 0
      },
      "text/plain": [
       "HBox(children=(VBox(children=(Image(value=b'\\xff\\xd8\\xff\\xe0\\x00\\x10JFIF\\x00\\x01\\x01\\x00\\x00\\x00\\x00\\x00\\x00\\x…"
      ]
     },
     "metadata": {},
     "output_type": "display_data"
    }
   ],
   "source": [
    "page = widgets.HBox([vbox_headline, vbox_text])\n",
    "display(page)"
   ]
  },
  {
   "cell_type": "code",
   "execution_count": null,
   "metadata": {},
   "outputs": [],
   "source": []
  }
 ],
 "metadata": {
  "kernelspec": {
   "display_name": "Python 3",
   "language": "python",
   "name": "python3"
  },
  "language_info": {
   "codemirror_mode": {
    "name": "ipython",
    "version": 3
   },
   "file_extension": ".py",
   "mimetype": "text/x-python",
   "name": "python",
   "nbconvert_exporter": "python",
   "pygments_lexer": "ipython3",
   "version": "3.8.5"
  }
 },
 "nbformat": 4,
 "nbformat_minor": 4
}
